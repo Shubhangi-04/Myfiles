{
  "nbformat": 4,
  "nbformat_minor": 0,
  "metadata": {
    "colab": {
      "name": "Programming.ipynb",
      "provenance": []
    },
    "kernelspec": {
      "name": "python3",
      "display_name": "Python 3"
    },
    "language_info": {
      "name": "python"
    }
  },
  "cells": [
    {
      "cell_type": "code",
      "source": [
        "#Ques1: To find the min difference between max and min number of a list as :\n",
        "# In this code we have taken a set of list as L and its subset as P, such that length of L>P and sorted in ascending order.To calculate the \n",
        "#number of subsets it can form we have used range(n-P +1),which means the for loop which is used will iterate with every i value in the \n",
        "#list to calculate difference bewtween max and min values at each time such that every result is compared with its previous or next result to \n",
        "#know which is the minimum and thus will show the minimum difference as the output. \n",
        "\n",
        "def minDiff(L,P):\n",
        "    result = +2147483647\n",
        "    n=len(L)\n",
        "    # Sorting the array.\n",
        "    L.sort()\n",
        "  \n",
        "    #By finding minimum value among all P size subarray.\n",
        "    for i in range(n-P+1):\n",
        "        result = int(min(result, L[i+P-1] - L[i]))\n",
        "  \n",
        "    return result\n",
        " \n",
        "L= [3,4,1,9,56,7,9,12,13]\n",
        "\n",
        "P = 5\n",
        "  \n",
        "print(minDiff(L,P))"
      ],
      "metadata": {
        "colab": {
          "base_uri": "https://localhost:8080/"
        },
        "id": "jdKXSe9fMj4Y",
        "outputId": "32b356a8-283a-4553-aa41-2e6a268ee0ea"
      },
      "execution_count": 1,
      "outputs": [
        {
          "output_type": "stream",
          "name": "stdout",
          "text": [
            "6\n"
          ]
        }
      ]
    },
    {
      "cell_type": "code",
      "source": [
        "#Ques2:To find the even numbers a sum of two prime numbers through Goldbach's conjecture\n",
        "# Python program to implement Goldbach's conjecture:\n",
        "import math\n",
        "MAX = 10000;\n",
        " \n",
        "# Array is used to store all prime less than and equal to 10^6\n",
        "primes = [];\n",
        " \n",
        "# Then Utility function is used which is  Sieve of Sundaram\n",
        "def sieveSundaram():\n",
        "     \n",
        "    # Sieve of Sundaram produces primes smaller than (2*x + 2) for a number given number x. Since we want primes smaller than MAX, we have to\n",
        "    #reduce MAX to half. This array is used to separate numbers of the form i + j + 2*i*j from others where 1 <= i <= j\n",
        "    marked = [False] * (int(MAX / 2) + 100);\n",
        " \n",
        "    # Main logic of Sundaram is that mark all numbers which do not generate prime number by doing 2*i+1\n",
        "    for i in range(1, int((math.sqrt(MAX) - 1) / 2) + 1):\n",
        "        for j in range((i * (i + 1)) << 1,\n",
        "                        int(MAX / 2) + 1, 2 * i + 1):\n",
        "            marked[j] = True;\n",
        " \n",
        "    # Since 2 is a prime number\n",
        "    primes.append(2);\n",
        " \n",
        "    # Print other primes. Remaining primes are of the form 2*i + 1 such that marked[i] is false.\n",
        "    for i in range(1, int(MAX / 2) + 1):\n",
        "        if (marked[i] == False):\n",
        "            primes.append(2 * i + 1);\n",
        " \n",
        "# Function to perform Goldbach's conjecture\n",
        "def findPrimes(n):\n",
        "     \n",
        "    # Return if number is not even or less than 3\n",
        "    if (n <= 2 or n % 2 != 0):\n",
        "        print(\"Invalid Input\");\n",
        "        return;\n",
        " \n",
        "    # To check only upto half of number\n",
        "    i = 0;\n",
        "    while (primes[i] <= n // 2):\n",
        "         \n",
        "        # find difference by subtracting current prime from n\n",
        "        diff = n - primes[i];\n",
        " \n",
        "        # By searching if the difference is also a prime number\n",
        "        if diff in primes:\n",
        "             \n",
        "            # By expressing as a sum of primes\n",
        "            print(primes[i], \"+\", diff, \"=\", n);\n",
        "            return;\n",
        "        i += 1;\n",
        " \n",
        "\n",
        " # To Find all prime numbers before limit\n",
        "sieveSundaram();\n",
        " \n",
        "findPrimes(12);\n",
        "\n",
        " \n",
        "  \n",
        "\n"
      ],
      "metadata": {
        "colab": {
          "base_uri": "https://localhost:8080/"
        },
        "id": "XMR11Lw18eOC",
        "outputId": "16432c65-0db8-4119-9df3-d35e0bf2594f"
      },
      "execution_count": 3,
      "outputs": [
        {
          "output_type": "stream",
          "name": "stdout",
          "text": [
            "5 + 7 = 12\n"
          ]
        }
      ]
    },
    {
      "cell_type": "code",
      "source": [
        "#Ques3: to find the odd one out datatype from the list: We have used for loop to iterate through all values and used counter library in order \n",
        "#to count the types of data and the min i.e. having count of the type as 1 is considered to be odd and given as output.\n",
        "\n",
        "def odd_one(L):\n",
        "  type_list =[]\n",
        "  for i in L:\n",
        "     type_list.append(type(i))\n",
        "  for item in Counter(type_list).items():\n",
        "    if item[1]== 1:\n",
        "      print (item[0])"
      ],
      "metadata": {
        "id": "AeJ0K_Dffovm"
      },
      "execution_count": 4,
      "outputs": []
    },
    {
      "cell_type": "code",
      "source": [
        "from collections import Counter\n",
        "odd_one([1,2,3.4,5,10])"
      ],
      "metadata": {
        "colab": {
          "base_uri": "https://localhost:8080/"
        },
        "id": "cVInFjWvnaM9",
        "outputId": "7784d42f-800b-4044-8b5a-852f01bd261d"
      },
      "execution_count": null,
      "outputs": [
        {
          "output_type": "stream",
          "name": "stdout",
          "text": [
            "<class 'float'>\n"
          ]
        }
      ]
    }
  ]
}